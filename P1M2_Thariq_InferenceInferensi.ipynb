{
 "cells": [
  {
   "cell_type": "code",
   "execution_count": 2,
   "metadata": {},
   "outputs": [],
   "source": [
    "# Libraries for Data Manipulation\n",
    "import pandas as pd\n",
    "# Libraries for saving\n",
    "import pickle\n",
    "import json"
   ]
  },
  {
   "cell_type": "code",
   "execution_count": 3,
   "metadata": {},
   "outputs": [],
   "source": [
    "with open('list_num_cols.txt', 'r') as file_1:\n",
    " num_inf = json.load(file_1)\n",
    "\n",
    "with open('list_cat_cols.txt', 'r') as file_2:\n",
    " cat_inf = json.load(file_2)\n",
    "\n",
    "with open('model.pkl', 'rb') as file_3:\n",
    "  model_inf = pickle.load(file_3)"
   ]
  },
  {
   "cell_type": "code",
   "execution_count": 34,
   "metadata": {},
   "outputs": [
    {
     "data": {
      "text/html": [
       "<div>\n",
       "<style scoped>\n",
       "    .dataframe tbody tr th:only-of-type {\n",
       "        vertical-align: middle;\n",
       "    }\n",
       "\n",
       "    .dataframe tbody tr th {\n",
       "        vertical-align: top;\n",
       "    }\n",
       "\n",
       "    .dataframe thead th {\n",
       "        text-align: right;\n",
       "    }\n",
       "</style>\n",
       "<table border=\"1\" class=\"dataframe\">\n",
       "  <thead>\n",
       "    <tr style=\"text-align: right;\">\n",
       "      <th></th>\n",
       "      <th>Year</th>\n",
       "      <th>Engine HP</th>\n",
       "      <th>Engine Cylinders</th>\n",
       "      <th>Number of Doors</th>\n",
       "      <th>highway MPG</th>\n",
       "      <th>city mpg</th>\n",
       "      <th>Engine Fuel Type</th>\n",
       "      <th>Transmission Type</th>\n",
       "      <th>Driven_Wheels</th>\n",
       "      <th>Vehicle Size</th>\n",
       "      <th>Vehicle Style</th>\n",
       "      <th>Make</th>\n",
       "      <th>Model</th>\n",
       "      <th>Market Category</th>\n",
       "      <th>Popularity</th>\n",
       "    </tr>\n",
       "  </thead>\n",
       "  <tbody>\n",
       "    <tr>\n",
       "      <th>0</th>\n",
       "      <td>2006</td>\n",
       "      <td>350.0</td>\n",
       "      <td>6.0</td>\n",
       "      <td>4.0</td>\n",
       "      <td>28</td>\n",
       "      <td>20</td>\n",
       "      <td>regular unleaded</td>\n",
       "      <td>MANUAL</td>\n",
       "      <td>rear wheel drive</td>\n",
       "      <td>Midsize</td>\n",
       "      <td>Hatchback</td>\n",
       "      <td>BMW</td>\n",
       "      <td>1 Series M</td>\n",
       "      <td>Crossover,Luxury,Hatchback</td>\n",
       "      <td>400</td>\n",
       "    </tr>\n",
       "  </tbody>\n",
       "</table>\n",
       "</div>"
      ],
      "text/plain": [
       "   Year  Engine HP  Engine Cylinders  Number of Doors  highway MPG  city mpg  \\\n",
       "0  2006      350.0               6.0              4.0           28        20   \n",
       "\n",
       "   Engine Fuel Type Transmission Type     Driven_Wheels Vehicle Size  \\\n",
       "0  regular unleaded            MANUAL  rear wheel drive      Midsize   \n",
       "\n",
       "  Vehicle Style Make       Model             Market Category Popularity  \n",
       "0     Hatchback  BMW  1 Series M  Crossover,Luxury,Hatchback        400  "
      ]
     },
     "execution_count": 34,
     "metadata": {},
     "output_type": "execute_result"
    }
   ],
   "source": [
    "my_data = [{\n",
    "'Year' : 2006,\n",
    "'Engine HP': 350.0,\n",
    "'Engine Cylinders': 6.0,\n",
    "'Number of Doors': 4.0,\n",
    "'highway MPG': 28,\n",
    "'city mpg':20,\n",
    "'Engine Fuel Type': 'regular unleaded',\n",
    "'Transmission Type': 'MANUAL',\n",
    "'Driven_Wheels':'rear wheel drive',\n",
    "'Vehicle Size':'Midsize',\n",
    "'Vehicle Style':'Hatchback',\n",
    "'Make': 'BMW',\n",
    "'Model':'1 Series M',\n",
    "'Market Category':'Crossover,Luxury,Hatchback',\n",
    "'Popularity':'400'}]\n",
    "\n",
    "data_inference = pd.DataFrame(my_data)\n",
    "\n",
    "# Tampilkan DataFrame\n",
    "data_inference"
   ]
  },
  {
   "cell_type": "code",
   "execution_count": 35,
   "metadata": {},
   "outputs": [
    {
     "name": "stdout",
     "output_type": "stream",
     "text": [
      "Predict mobil: [49414.21576111]\n"
     ]
    }
   ],
   "source": [
    "# Transform the new data using the pipeline\n",
    "predictions = model_inf.predict(data_inference)\n",
    "\n",
    "# Print the predictions\n",
    "print(\"Predict mobil:\", predictions)\n"
   ]
  }
 ],
 "metadata": {
  "kernelspec": {
   "display_name": "base",
   "language": "python",
   "name": "python3"
  },
  "language_info": {
   "codemirror_mode": {
    "name": "ipython",
    "version": 3
   },
   "file_extension": ".py",
   "mimetype": "text/x-python",
   "name": "python",
   "nbconvert_exporter": "python",
   "pygments_lexer": "ipython3",
   "version": "3.10.9"
  }
 },
 "nbformat": 4,
 "nbformat_minor": 2
}
